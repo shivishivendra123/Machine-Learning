{
 "cells": [
  {
   "cell_type": "code",
   "execution_count": 11,
   "id": "e96f9449-a808-4bd8-ae6c-ea7d7681c429",
   "metadata": {},
   "outputs": [],
   "source": [
    "from sklearn.datasets import load_diabetes\n",
    "import numpy as np\n",
    "from sklearn.linear_model import Lasso,Ridge,ElasticNet,LinearRegression\n",
    "from sklearn.model_selection import train_test_split\n",
    "from sklearn.metrics import r2_score"
   ]
  },
  {
   "cell_type": "code",
   "execution_count": 3,
   "id": "53dd1f98-c42a-4664-a170-83704231156b",
   "metadata": {},
   "outputs": [],
   "source": [
    "X,y = load_diabetes(return_X_y = True)"
   ]
  },
  {
   "cell_type": "code",
   "execution_count": 9,
   "id": "fd5a7af9-b352-40f1-a854-0a5f5d7b58a8",
   "metadata": {},
   "outputs": [],
   "source": [
    "X_train,X_test,y_train,y_test = train_test_split(X,y,test_size = .2 , random_state = 23)"
   ]
  },
  {
   "cell_type": "code",
   "execution_count": 12,
   "id": "9a702ccf-3620-4034-8efc-c60f70fff9b8",
   "metadata": {},
   "outputs": [
    {
     "data": {
      "text/plain": [
       "0.4588389962630465"
      ]
     },
     "execution_count": 12,
     "metadata": {},
     "output_type": "execute_result"
    }
   ],
   "source": [
    "lr = LinearRegression()\n",
    "lr.fit(X_train,y_train)\n",
    "lr_y_pred = lr.predict(X_test)\n",
    "r2_score(y_test,lr_y_pred)"
   ]
  },
  {
   "cell_type": "code",
   "execution_count": 18,
   "id": "15b8f40d-e168-44f7-b2be-4833e4f68d1d",
   "metadata": {},
   "outputs": [
    {
     "data": {
      "text/plain": [
       "0.46699484067579367"
      ]
     },
     "execution_count": 18,
     "metadata": {},
     "output_type": "execute_result"
    }
   ],
   "source": [
    "r = Ridge(alpha=.1)\n",
    "r.fit(X_train,y_train)\n",
    "r_y_pred = r.predict(X_test)\n",
    "r2_score(y_test,r_y_pred)"
   ]
  },
  {
   "cell_type": "code",
   "execution_count": 17,
   "id": "f0ace3c2-d579-40c0-807a-e6d26ceac236",
   "metadata": {},
   "outputs": [
    {
     "data": {
      "text/plain": [
       "0.4709634855431918"
      ]
     },
     "execution_count": 17,
     "metadata": {},
     "output_type": "execute_result"
    }
   ],
   "source": [
    "l = Lasso(alpha=.1)\n",
    "l.fit(X_train,y_train)\n",
    "l_y_pred = l.predict(X_test)\n",
    "r2_score(y_test,l_y_pred)"
   ]
  },
  {
   "cell_type": "code",
   "execution_count": 24,
   "id": "b1de99cb-ee00-40cf-871e-ff72773c91e8",
   "metadata": {},
   "outputs": [
    {
     "data": {
      "text/plain": [
       "0.46250538919213324"
      ]
     },
     "execution_count": 24,
     "metadata": {},
     "output_type": "execute_result"
    }
   ],
   "source": [
    "e = ElasticNet(alpha=.0001,l1_ratio=.9)\n",
    "e.fit(X_train,y_train)\n",
    "e_y_pred = e.predict(X_test)\n",
    "r2_score(y_test,e_y_pred)"
   ]
  }
 ],
 "metadata": {
  "kernelspec": {
   "display_name": "Python 3 (ipykernel)",
   "language": "python",
   "name": "python3"
  },
  "language_info": {
   "codemirror_mode": {
    "name": "ipython",
    "version": 3
   },
   "file_extension": ".py",
   "mimetype": "text/x-python",
   "name": "python",
   "nbconvert_exporter": "python",
   "pygments_lexer": "ipython3",
   "version": "3.12.7"
  }
 },
 "nbformat": 4,
 "nbformat_minor": 5
}
